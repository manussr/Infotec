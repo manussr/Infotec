{
 "cells": [
  {
   "cell_type": "code",
   "execution_count": 1,
   "id": "119597dc",
   "metadata": {},
   "outputs": [],
   "source": [
    "import math"
   ]
  },
  {
   "cell_type": "code",
   "execution_count": 2,
   "id": "647fc003",
   "metadata": {},
   "outputs": [],
   "source": [
    "def trapezoidal_simple(cota_inferior, cota_superior, fnct):\n",
    "    return (cota_superior-cota_inferior)*(0.5)*(fnct(cota_inferior) + fnct(cota_superior))\n",
    "\n",
    "def subsuma_trapezoidal_compuesta(cota_inferior, subintervalos, h, f):\n",
    "    sum = 0\n",
    "    for i in range (1, subintervalos):\n",
    "        xi = cota_inferior+i*h\n",
    "        sum = sum + f(xi)\n",
    "    return sum\n",
    "\n",
    "def trapezoidal_compuesta(cota_inferior,cota_superior,subintervalos, fnct):\n",
    "    h = (cota_superior-cota_inferior)/subintervalos\n",
    "    return h*(.5*(fnct(cota_inferior)) + subsuma_trapezoidal_compuesta(cota_inferior= cota_inferior, subintervalos= subintervalos,h=h,f=fnct) +.5*fnct(cota_superior))\n",
    "\n",
    "def error_relativo(valor_exacto, valor_estimado):\n",
    "    return abs(valor_exacto-valor_estimado)/abs(valor_exacto)\n"
   ]
  },
  {
   "cell_type": "code",
   "execution_count": 3,
   "id": "c1b4ca04",
   "metadata": {},
   "outputs": [
    {
     "name": "stdout",
     "output_type": "stream",
     "text": [
      "resultado 0.75, error relativo 0.0820212806667226 trapezoidal simple\n",
      "resultado 0.7083333333333333, error relativo 0.02190898729634901 para 2 subintervalos\n",
      "resultado 0.7, error relativo 0.009886528622274356 para 3 subintervalos\n"
     ]
    }
   ],
   "source": [
    "my_function = lambda a: 1/(a+1)\n",
    "valor_real = math.log(2)\n",
    "####inciso 2 y 3 \n",
    "resultado = trapezoidal_simple(0, 1, my_function)\n",
    "print(f\"resultado {resultado}, error relativo {error_relativo(valor_exacto=valor_real, valor_estimado = resultado)} trapezoidal simple\")\n",
    "####inciso 4 y 5\n",
    "resultado = trapezoidal_compuesta(0, 1, 2, my_function)\n",
    "print(f\"resultado {resultado}, error relativo {error_relativo(valor_exacto=valor_real, valor_estimado = resultado)} para {2} subintervalos\")\n",
    "####inciso 6 y 7\n",
    "resultado = trapezoidal_compuesta(0, 1, 3, my_function)\n",
    "print(f\"resultado {resultado}, error relativo {error_relativo(valor_exacto=valor_real, valor_estimado = resultado)} para {3} subintervalos\")"
   ]
  },
  {
   "cell_type": "code",
   "execution_count": 4,
   "id": "cd0e0d49",
   "metadata": {},
   "outputs": [
    {
     "name": "stdout",
     "output_type": "stream",
     "text": [
      "subintervalo 10, error_relativo 0.0009005628717674297\n",
      "subintervalo 11, error_relativo 0.0007444270448316282\n",
      "subintervalo 12, error_relativo 0.0006256280460757231\n",
      "subintervalo 13, error_relativo 0.0005331475947367835\n",
      "subintervalo 14, error_relativo 0.0004597504111344809\n",
      "subintervalo 15, error_relativo 0.00040052647677954933\n",
      "subintervalo 16, error_relativo 0.0003520488208352633\n",
      "subintervalo 17, error_relativo 0.00031186680655045105\n",
      "subintervalo 18, error_relativo 0.00027819045172111027\n",
      "subintervalo 19, error_relativo 0.000249687704746158\n",
      "subintervalo 20, error_relativo 0.0002253507438674981\n",
      "subintervalo 21, error_relativo 0.0002044056939125001\n",
      "subintervalo 22, error_relativo 0.00018625036519914285\n",
      "subintervalo 23, error_relativo 0.0001704104986982167\n",
      "subintervalo 24, error_relativo 0.00015650848820555893\n",
      "subintervalo 25, error_relativo 0.0001442406732319264\n",
      "subintervalo 26, error_relativo 0.00013336062013315225\n",
      "subintervalo 27, error_relativo 0.00012366665248769506\n",
      "subintervalo 28, error_relativo 0.00011499243988013275\n",
      "subintervalo 29, error_relativo 0.0001071998169386986\n",
      "subintervalo 30, error_relativo 0.00010017324845608928\n",
      "subintervalo 31, error_relativo 9.38155230860029e-05\n",
      "subintervalo 32, error_relativo 8.804437356896709e-05\n",
      "subintervalo 33, error_relativo 8.278980247056958e-05\n",
      "subintervalo 34, error_relativo 7.799195001857759e-05\n",
      "subintervalo 35, error_relativo 7.359938199720601e-05\n",
      "subintervalo 36, error_relativo 6.956770571486527e-05\n",
      "subintervalo 37, error_relativo 6.585844412243636e-05\n",
      "subintervalo 38, error_relativo 6.243811448506408e-05\n",
      "subintervalo 39, error_relativo 5.927747021519353e-05\n",
      "subintervalo 40, error_relativo 5.635087365415401e-05\n",
      "subintervalo 41, error_relativo 5.363577458571777e-05\n",
      "subintervalo 42, error_relativo 5.111227459123812e-05\n",
      "subintervalo 43, error_relativo 4.876276146340483e-05\n",
      "subintervalo 44, error_relativo 4.657160110148381e-05\n",
      "subintervalo 45, error_relativo 4.45248767785077e-05\n",
      "subintervalo 46, error_relativo 4.261016764099087e-05\n",
      "subintervalo 47, error_relativo 4.081635983570365e-05\n",
      "subintervalo 48, error_relativo 3.913348488142876e-05\n",
      "subintervalo 49, error_relativo 3.755258088963781e-05\n",
      "subintervalo 50, error_relativo 3.60655730140557e-05\n",
      "subintervalo 51, error_relativo 3.46651701399957e-05\n",
      "subintervalo 52, error_relativo 3.3344775346186124e-05\n",
      "subintervalo 53, error_relativo 3.209840807784373e-05\n",
      "subintervalo 54, error_relativo 3.0920636307710666e-05\n",
      "subintervalo 55, error_relativo 2.980651725712754e-05\n",
      "subintervalo 56, error_relativo 2.8751545453914183e-05\n",
      "subintervalo 57, error_relativo 2.7751607111091444e-05\n",
      "subintervalo 58, error_relativo 2.6802939971289286e-05\n",
      "subintervalo 59, error_relativo 2.5902097857949432e-05\n",
      "subintervalo 60, error_relativo 2.5045919345013303e-05\n",
      "subintervalo 61, error_relativo 2.423149997937011e-05\n",
      "subintervalo 62, error_relativo 2.345616761751605e-05\n",
      "subintervalo 63, error_relativo 2.2717460479039468e-05\n",
      "subintervalo 64, error_relativo 2.2013107585217293e-05\n",
      "subintervalo 65, error_relativo 2.1341011282401365e-05\n",
      "subintervalo 66, error_relativo 2.0699231605933535e-05\n",
      "subintervalo 67, error_relativo 2.008597227028016e-05\n",
      "subintervalo 68, error_relativo 1.9499568081007505e-05\n",
      "subintervalo 69, error_relativo 1.8938473626045495e-05\n",
      "subintervalo 70, error_relativo 1.8401253076938758e-05\n",
      "subintervalo 71, error_relativo 1.788657099789563e-05\n",
      "subintervalo 72, error_relativo 1.7393184040584622e-05\n",
      "subintervalo 73, error_relativo 1.6919933423449992e-05\n",
      "subintervalo 74, error_relativo 1.6465738126352506e-05\n",
      "subintervalo 75, error_relativo 1.6029588709878317e-05\n",
      "subintervalo 76, error_relativo 1.5610541701173868e-05\n",
      "subintervalo 77, error_relativo 1.520771448992643e-05\n",
      "subintervalo 78, error_relativo 1.4820280676508304e-05\n",
      "subintervalo 79, error_relativo 1.4447465827436714e-05\n",
      "subintervalo 80, error_relativo 1.408854360819732e-05\n",
      "subintervalo 81, error_relativo 1.3742832235769712e-05\n",
      "subintervalo 82, error_relativo 1.340969124637007e-05\n",
      "subintervalo 83, error_relativo 1.3088518519788285e-05\n",
      "subintervalo 84, error_relativo 1.2778747561600905e-05\n",
      "subintervalo 85, error_relativo 1.247984500417813e-05\n",
      "subintervalo 86, error_relativo 1.2191308304861694e-05\n",
      "subintervalo 87, error_relativo 1.1912663634266107e-05\n",
      "subintervalo 88, error_relativo 1.1643463932439462e-05\n",
      "subintervalo 89, error_relativo 1.1383287111100478e-05\n",
      "subintervalo 90, error_relativo 1.1131734401471278e-05\n",
      "subintervalo 91, error_relativo 1.0888428820957294e-05\n",
      "subintervalo 92, error_relativo 1.0653013762998924e-05\n",
      "subintervalo 93, error_relativo 1.0425151690073511e-05\n",
      "subintervalo 94, error_relativo 1.020452292247979e-05\n",
      "subintervalo 95, error_relativo 9.990824515857236e-06\n",
      "subintervalo 96, error_relativo 9.783769220232621e-06\n",
      "subintervalo 97, error_relativo 9.58308451690984e-06\n",
      "subintervalo 98, error_relativo 9.388511717666374e-06\n",
      "subintervalo 99, error_relativo 9.199805134745488e-06\n"
     ]
    }
   ],
   "source": [
    "for i in range(1, 100):\n",
    "    resultado_actual = trapezoidal_compuesta(0,1,i,my_function)\n",
    "    error_actual = error_relativo(valor_real, resultado_actual)\n",
    "    if  error_actual < 0.001:\n",
    "        print(f\"subintervalo {i}, error_relativo {error_actual}\")\n",
    "   "
   ]
  },
  {
   "cell_type": "code",
   "execution_count": null,
   "id": "88d5201a",
   "metadata": {},
   "outputs": [],
   "source": []
  },
  {
   "cell_type": "code",
   "execution_count": null,
   "id": "37f46e1c",
   "metadata": {},
   "outputs": [],
   "source": []
  },
  {
   "cell_type": "code",
   "execution_count": null,
   "id": "a26bb93b",
   "metadata": {},
   "outputs": [],
   "source": []
  },
  {
   "cell_type": "code",
   "execution_count": null,
   "id": "648259cd",
   "metadata": {},
   "outputs": [],
   "source": []
  }
 ],
 "metadata": {
  "kernelspec": {
   "display_name": "Python 3 (ipykernel)",
   "language": "python",
   "name": "python3"
  },
  "language_info": {
   "codemirror_mode": {
    "name": "ipython",
    "version": 3
   },
   "file_extension": ".py",
   "mimetype": "text/x-python",
   "name": "python",
   "nbconvert_exporter": "python",
   "pygments_lexer": "ipython3",
   "version": "3.10.9"
  }
 },
 "nbformat": 4,
 "nbformat_minor": 5
}
